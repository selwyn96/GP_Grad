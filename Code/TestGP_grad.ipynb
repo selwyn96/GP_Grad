{
 "cells": [
  {
   "cell_type": "code",
   "execution_count": null,
   "metadata": {},
   "outputs": [],
   "source": [
    "import numpy as np\n",
    "%matplotlib inline\n",
    "import matplotlib.pyplot as pl\n",
    "from mpl_toolkits.mplot3d.axes3d import Axes3D\n",
    "from PIL import Image\n",
    "import functions\n",
    "from GP import GP\n",
    "from GP_grad import GP_grad\n",
    "import time\n",
    "import imageio"
   ]
  },
  {
   "cell_type": "code",
   "execution_count": null,
   "metadata": {},
   "outputs": [],
   "source": [
    "Noise = True # Specify if noisy or not\n",
    "Noise_level = 0.1 # if noisy, what is the noise sd\n",
    "'''If use the scaled X and Y, rememeber to scale the noise as well'''"
   ]
  },
  {
   "cell_type": "code",
   "execution_count": null,
   "metadata": {},
   "outputs": [],
   "source": [
    "# objective = functions.sincos(Noise, Noise_level)\n",
    "objective = functions.sin(Noise, Noise_level)\n",
    "\n",
    "bounds = np.array([item[1] for item in sorted(objective.bounds.items(), key=lambda x: x[0])], dtype=np.float64)\n",
    "print(bounds) \n",
    "\n",
    "f = objective.func\n",
    "print(f( np.array([2, 1]) ))\n",
    "# np.sin(np.array([2, 1]))\n",
    "\n",
    "dim = objective.input_dim\n",
    "print('dim: ', dim)"
   ]
  },
  {
   "cell_type": "code",
   "execution_count": null,
   "metadata": {},
   "outputs": [],
   "source": [
    "# max budget for finding good point\n",
    "Budget = 100\n",
    "# set seed\n",
    "seed = 0\n",
    "# Acq_names=['PI','PG','EI','EG','gp_ucb','random','TS','SATS','G_ES','MES']\n",
    "acquation_function = 'random'"
   ]
  },
  {
   "cell_type": "code",
   "execution_count": null,
   "metadata": {},
   "outputs": [],
   "source": [
    "def draw(n_random_draws=3):\n",
    "    \"\"\" samples some points\"\"\"\n",
    "    # np.random.seed(seed) \n",
    "    # should draw randomly\n",
    "    X = np.random.uniform(bounds[:, 0], bounds[:, 1], size=(n_random_draws, dim))\n",
    "    return X, f(X)\n",
    "\n",
    "gp = GP_grad(bounds, Noise, Noise_level)\n",
    "\n",
    "def get_kernel(sample_size=200):\n",
    "    np.random.seed(seed)\n",
    "    X = np.asarray(np.random.uniform(bounds[:, 0], bounds[:, 1], size=(sample_size, dim)))\n",
    "    gp.set_data(X, f(X))\n",
    "    # gp.optimize()\n",
    "    gp.fit()\n",
    "    return gp.get_hyper()"
   ]
  },
  {
   "cell_type": "code",
   "execution_count": null,
   "metadata": {},
   "outputs": [],
   "source": [
    "get_kernel()\n",
    "n = 50\n",
    "Xtest = np.linspace(-5, 5, n).reshape(-1, dim)\n",
    "mu, covar = gp.posterior(Xtest)\n",
    "s = np.sqrt(np.diag(covar))\n",
    "mu = np.squeeze(mu)\n",
    "\n",
    "\n",
    "Kt = gp.cov_RBF(Xtest, Xtest, gp.get_hyper())\n",
    "K_11 = gp.K11(Xtest)\n",
    "K_01 = gp.K01(Xtest)"
   ]
  },
  {
   "cell_type": "code",
   "execution_count": null,
   "metadata": {},
   "outputs": [],
   "source": [
    "gp.X.shape"
   ]
  },
  {
   "cell_type": "code",
   "execution_count": null,
   "metadata": {},
   "outputs": [],
   "source": [
    "# gp.add_data(Xtest, f(Xtest))"
   ]
  },
  {
   "cell_type": "code",
   "execution_count": null,
   "metadata": {},
   "outputs": [],
   "source": [
    "# a = np.array([[1, 2], [3, 4], [5, 6]])\n",
    "# b = np.array([[10, 20], [0.5, 0.1]])\n",
    "# a, b\n",
    "# test\n",
    "# def sq_dist(x1, x2): # x1: N*d, x2: M*d  --> N*d\n",
    "#     if x1.shape[1] != x2.shape[1]: # 2d\n",
    "#         x1 = np.reshape(x1, (-1, x2.shape[1]))\n",
    "#     return np.sum(x1**2, 1).reshape(-1, 1) + np.sum(x2**2, 1) - 2*np.dot(x1, x2.T)\n",
    "\n",
    "# def K01(Xtest, hyper=None):\n",
    "#     variance = 1\n",
    "#     lengthscale = 1\n",
    "\n",
    "#     Xtest_p = Xtest[:, 0]\n",
    "#     X_p = np.reshape(a[:, 0], (-1, 1))\n",
    "\n",
    "#     sqdist = sq_dist(a, Xtest)\n",
    "#     diff = X_p - Xtest_p\n",
    "#     K_01 = (variance/(lengthscale**2)) * diff * np.exp(-0.5 * sqdist / (lengthscale**2))\n",
    "#     return sqdist"
   ]
  },
  {
   "cell_type": "code",
   "execution_count": null,
   "metadata": {},
   "outputs": [],
   "source": [
    "# M, V = gp.joint_MVN(Xtest)\n",
    "# M.shape, V.shape\n",
    "# V\n",
    "# gp.cov_RBF(gp.X, gp.X, gp.get_hyper())"
   ]
  },
  {
   "cell_type": "code",
   "execution_count": null,
   "metadata": {},
   "outputs": [],
   "source": [
    "# gp.posterior_grad(Xtest)"
   ]
  },
  {
   "cell_type": "code",
   "execution_count": null,
   "metadata": {},
   "outputs": [],
   "source": [
    "# plot\n",
    "X = np.squeeze(gp.X)\n",
    "y = np.squeeze(gp.y)\n",
    "\n",
    "Xtest = np.squeeze(Xtest)\n",
    "\n",
    "pl.figure(1)\n",
    "pl.clf()\n",
    "pl.plot(X, y, 'r+', ms=7)\n",
    "pl.plot(Xtest, np.sin(Xtest), 'b-')\n",
    "pl.gca().fill_between(Xtest.flat, mu-2*s, mu+2*s, color=\"#dddddd\")\n",
    "\n",
    "pl.plot(Xtest, mu, 'r--', lw=2)\n",
    "pl.savefig('predictive.png', bbox_inches='tight')\n",
    "pl.title('Mean predictions plus 3 st.deviations')\n",
    "pl.axis([-5, 5, -3, 3])\n",
    "\n",
    "# draw samples from the prior at our test points.\n",
    "L = np.linalg.cholesky(Kt + 1e-6*np.eye(n))\n",
    "f_prior = np.dot(L, np.random.normal(size=(n,10)))\n",
    "pl.figure(2)\n",
    "pl.clf()\n",
    "pl.plot(Xtest, f_prior)\n",
    "pl.title('Ten samples from the GP prior')\n",
    "pl.axis([-5, 5, -3, 3])\n",
    "pl.savefig('prior.png', bbox_inches='tight')\n",
    "\n",
    "# draw samples from the posterior at our test points.\n",
    "L = np.linalg.cholesky(covar + 1e-6*np.eye(n)) # LL^T = Sigma (posterior covariance)\n",
    "f_post = mu.reshape(-1,1) + np.dot(L, np.random.normal(size=(n, 10)))\n",
    "pl.figure(3)\n",
    "pl.clf()\n",
    "pl.plot(Xtest, f_post)\n",
    "pl.title('Ten samples from the GP posterior')\n",
    "pl.axis([-5, 5, -3, 3])\n",
    "pl.savefig('post.png', bbox_inches='tight')\n",
    "\n",
    "pl.show()"
   ]
  },
  {
   "cell_type": "code",
   "execution_count": null,
   "metadata": {},
   "outputs": [],
   "source": [
    "mu_grad, covar_grad = gp.posterior_grad(Xtest)\n",
    "s_grad = np.sqrt(np.diag(covar_grad))\n",
    "mu_grad = np.squeeze(mu_grad)"
   ]
  },
  {
   "cell_type": "code",
   "execution_count": null,
   "metadata": {},
   "outputs": [],
   "source": [
    "# plot\n",
    "pl.figure(1)\n",
    "pl.clf()\n",
    "# pl.plot(X, y, 'r+', ms=7)\n",
    "pl.plot(Xtest, np.cos(Xtest), 'b-')\n",
    "pl.gca().fill_between(Xtest.flat, mu_grad-2*s_grad, mu_grad+2*s_grad, color=\"#dddddd\")\n",
    "\n",
    "pl.plot(Xtest, mu_grad, 'r--', lw=2)\n",
    "pl.savefig('predictive_grad.png', bbox_inches='tight')\n",
    "pl.title('Mean predictions of derivative plus 3 st.deviations')\n",
    "pl.axis([-5, 5, -3, 3])\n",
    "\n",
    "# draw samples from the prior at our test points.\n",
    "L = np.linalg.cholesky(K_11 + 1e-6*np.eye(n))\n",
    "f_prior = np.dot(L, np.random.normal(size=(n,10)))\n",
    "pl.figure(2)\n",
    "pl.clf()\n",
    "pl.plot(Xtest, f_prior)\n",
    "pl.title('Ten samples from the GP gradient prior')\n",
    "pl.axis([-5, 5, -3, 3])\n",
    "pl.savefig('prior_grad.png', bbox_inches='tight')\n",
    "\n",
    "# draw samples from the posterior at our test points.\n",
    "L = np.linalg.cholesky(covar_grad + 1e-6*np.eye(n)) # LL^T = Sigma (posterior covariance)\n",
    "f_post = mu_grad.reshape(-1,1) + np.dot(L, np.random.normal(size=(n, 10)))\n",
    "pl.figure(3)\n",
    "pl.clf()\n",
    "pl.plot(Xtest, f_post)\n",
    "pl.title('Ten samples from the GP gradient posterior')\n",
    "pl.axis([-5, 5, -3, 3])\n",
    "pl.savefig('post_grad.png', bbox_inches='tight')\n",
    "\n",
    "pl.show()"
   ]
  },
  {
   "source": [
    "## Actions"
   ],
   "cell_type": "markdown",
   "metadata": {}
  },
  {
   "cell_type": "code",
   "execution_count": null,
   "metadata": {},
   "outputs": [],
   "source": []
  },
  {
   "cell_type": "code",
   "execution_count": null,
   "metadata": {},
   "outputs": [],
   "source": [
    "gp = GP_grad(bounds, Noise, Noise_level)\n",
    "Budget = 10\n",
    "mesh = np.linspace(-5, 15, 2000).reshape((-1, dim))\n",
    "np.random.seed(seed)  \n",
    "\n",
    "X = np.asarray(np.random.uniform(bounds[:, 0], bounds[:, 1], size=(4, dim)))\n",
    "gp.set_data(X, f(X))\n",
    "gp.fit()\n",
    "mu, covar = gp.posterior(mesh)\n",
    "\n",
    "for i in range(1,  200):\n",
    "    # posterior of GP given gp.X, gp.y\n",
    "    mu, covar = gp.posterior(mesh)\n",
    "    s = np.sqrt(np.diag(covar))\n",
    "    mu = np.squeeze(mu)\n",
    "\n",
    "    # posterior of GP derivative given gp.X, gp.y\n",
    "    mu_grad, covar_grad = gp.posterior_grad(mesh)\n",
    "    s_grad = np.sqrt(np.diag(covar_grad))\n",
    "    mu_grad = np.squeeze(mu_grad)\n",
    "\n",
    "\n",
    "    # joint MVN\n",
    "    K = gp.cov_RBF(gp.X, gp.X, gp.get_hyper())\n",
    "    K_ = gp.cov_RBF(mesh, mesh, gp.get_hyper())\n",
    "    K_11 = gp.K11(mesh)\n",
    "    K_01 = gp.K01(mesh)\n",
    "\n",
    "    fig, (ax1, ax2) = pl.subplots(1, 2, figsize=(20, 6))\n",
    "\n",
    "    # plot function\n",
    "    ax1.plot(np.squeeze(gp.X), np.squeeze(gp.y), 'ko')\n",
    "    ax1.plot(mesh.flat, np.sin(mesh.flat), 'b-')\n",
    "    ax1.fill_between(mesh.flat, mu-2*s, mu+2*s, color=\"#dddddd\")\n",
    "\n",
    "    ax1.plot(mesh, mu, 'r--', lw=2)\n",
    "    fig.savefig('predictive.png', bbox_inches='tight')\n",
    "    ax1.set_title('Mean predictions plus 3 st.deviations')\n",
    "    ax1.axis([-5, 15, -3, 3])\n",
    "\n",
    "\n",
    "    # plot derivative\n",
    "    # pl.plot(X, y, 'r+', ms=7)\n",
    "    ax2.plot(mesh.flat, np.cos(mesh.flat), 'b-')\n",
    "    ax2.fill_between(mesh.flat, mu_grad-2*s_grad, mu_grad+2*s_grad, color=\"#dddddd\")\n",
    "\n",
    "    ax2.plot(mesh.flat, mu_grad, 'r--', lw=2)\n",
    "    fig.savefig('predictive_grad.png', bbox_inches='tight')\n",
    "    ax2.set_title('Mean predictions of derivative plus 3 st.deviations')\n",
    "    ax2.axis([-5, 15, -3, 3])\n",
    "\n",
    "    filename = 'sin_' + str(i) + '_noise' +'.png'\n",
    "    pl.savefig('Result_Plots/' + filename)\n",
    "    pl.show()  \n",
    "\n",
    "    X, f_X = draw(1)\n",
    "    gp.add_data(X, f_X)\n",
    "    gp.fit()"
   ]
  },
  {
   "cell_type": "code",
   "execution_count": 51,
   "metadata": {},
   "outputs": [],
   "source": [
    "# Creates the .gif from the saved plots for the 2D_Plots dir.\n",
    "filenames = []\n",
    "for i in range(1, 20):\n",
    "    filename = 'sin_' + str(i) + '_noise' + '.png'\n",
    "    filenames.append(filename)\n",
    "\n",
    "frames=[]\n",
    "for filename in filenames:\n",
    "    frames.append(imageio.imread('Result_Plots/' + filename))\n",
    "exportname = 'sin_w_noise.gif'\n",
    "\n",
    "kargs = { 'duration': 0.5 }\n",
    "imageio.mimsave(exportname, frames, 'GIF', **kargs)"
   ]
  },
  {
   "cell_type": "code",
   "execution_count": null,
   "metadata": {},
   "outputs": [],
   "source": []
  }
 ],
 "metadata": {
  "kernelspec": {
   "name": "python385jvsc74a57bd06e623d20ae1ecd218cb0f40b5002ebfef5346b48af1dbeabdec7c1521f9e0f81",
   "display_name": "Python 3.8.5 64-bit ('cs761': conda)"
  },
  "language_info": {
   "codemirror_mode": {
    "name": "ipython",
    "version": 3
   },
   "file_extension": ".py",
   "mimetype": "text/x-python",
   "name": "python",
   "nbconvert_exporter": "python",
   "pygments_lexer": "ipython3",
   "version": "3.8.5"
  }
 },
 "nbformat": 4,
 "nbformat_minor": 2
}
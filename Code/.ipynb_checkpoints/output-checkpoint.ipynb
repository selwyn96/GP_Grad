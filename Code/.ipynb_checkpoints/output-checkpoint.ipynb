{
 "cells": [
  {
   "cell_type": "code",
   "execution_count": 1,
   "metadata": {
    "papermill": {
     "duration": 1.177319,
     "end_time": "2021-07-21T04:37:21.184588",
     "exception": false,
     "start_time": "2021-07-21T04:37:20.007269",
     "status": "completed"
    },
    "tags": []
   },
   "outputs": [],
   "source": [
    "# Importing libraries\n",
    "import numpy as np\n",
    "%matplotlib inline\n",
    "import matplotlib.pyplot as plt\n",
    "from mpl_toolkits.mplot3d.axes3d import Axes3D\n",
    "from PIL import Image\n",
    "import functions\n",
    "from GP_action import GP_action\n",
    "import time\n",
    "import imageio\n",
    "import pickle"
   ]
  },
  {
   "cell_type": "code",
   "execution_count": 2,
   "metadata": {
    "papermill": {
     "duration": 0.03164,
     "end_time": "2021-07-21T04:37:21.216696",
     "exception": false,
     "start_time": "2021-07-21T04:37:21.185056",
     "status": "completed"
    },
    "tags": []
   },
   "outputs": [
    {
     "data": {
      "text/plain": [
       "'If the scaled X and Y is being used rememeber to scale the noise as well'"
      ]
     },
     "execution_count": 2,
     "metadata": {},
     "output_type": "execute_result"
    }
   ],
   "source": [
    "Noise=False# Specify if noisy or not\n",
    "Noise_level= 0.05 # if noisy, what is the noise sd\n",
    "'''If the scaled X and Y is being used rememeber to scale the noise as well'''"
   ]
  },
  {
   "cell_type": "code",
   "execution_count": 7,
   "metadata": {
    "papermill": {
     "duration": 0.029644,
     "end_time": "2021-07-21T04:37:21.246442",
     "exception": false,
     "start_time": "2021-07-21T04:37:21.216798",
     "status": "completed"
    },
    "tags": []
   },
   "outputs": [
    {
     "name": "stdout",
     "output_type": "stream",
     "text": [
      "[(-1, 1), (-1, 1), (-1, 1), (-1, 1), (-1, 1), (-1, 1), (-1, 1), (-1, 1), (-1, 1), (-1, 1)]\n",
      "[[-1  1]\n",
      " [-1  1]\n",
      " [-1  1]\n",
      " [-1  1]\n",
      " [-1  1]\n",
      " [-1  1]\n",
      " [-1  1]\n",
      " [-1  1]\n",
      " [-1  1]\n",
      " [-1  1]]\n",
      "-1.9198300562505324\n"
     ]
    }
   ],
   "source": [
    "# The target function is assigned, chose 1 from the below\n",
    "\n",
    "objective=functions.Ackley()\n",
    "objective=functions.Rosenbrock()\n",
    "objective=functions.Synthetic()\n",
    "objective=functions.sin()\n",
    "objective=functions.sin_2(Noise,Noise_level)\n",
    "objective=functions.sincos(Noise,Noise_level)\n",
    "objective=functions.Branin()\n",
    "objective=functions.Shubert(Noise,Noise_level)\n",
    "objective=functions.Kean(Noise,Noise_level)\n",
    "objective=functions.Shubert()\n",
    "objective=functions.Kean(Noise,Noise_level)\n",
    "objective=functions.Hartmann_3()\n",
    "objective=functions.Hartmann_6()\n",
    "objective=functions.Levy_10()\n",
    "objective=functions.Ackley_6()\n",
    "objective=functions.Rastrigin()\n",
    "\n",
    "\n",
    "\n",
    "print(objective.bounds)\n",
    "# Extracting the bounded range of the inputs\n",
    "#func_bounds=bounds=np.array(\n",
    "#            [item[1] for item in sorted(objective.bounds.items(), key=lambda x: x[0])],dtype=np.float)\n",
    "func_bounds=np.array(objective.bounds)\n",
    "print(func_bounds)\n",
    "print(objective.func(np.array([0,0,0,0,0,0,0,0,0,0])))\n"
   ]
  },
  {
   "cell_type": "code",
   "execution_count": null,
   "metadata": {
    "papermill": {
     "duration": 0.021956,
     "end_time": "2021-07-21T04:37:21.268492",
     "exception": false,
     "start_time": "2021-07-21T04:37:21.246536",
     "status": "completed"
    },
    "tags": []
   },
   "outputs": [],
   "source": [
    "# max budget for finding good point\n",
    "Budget=300\n",
    "\n",
    "# Acq_names=['PI','PG','EI','EG','gp_ucb','random','TS','SATS','G_ES','MES','GD']\n",
    "acquation_function='gp_ucb'\n",
    "function_bounds=func_bounds\n",
    "func_name='Rastrigin'\n",
    "Max= 40 # function max 3.86278, 3.32237"
   ]
  },
  {
   "cell_type": "code",
   "execution_count": null,
   "metadata": {
    "papermill": {
     "duration": 115604.147237,
     "end_time": "2021-07-22T12:44:05.415833",
     "exception": false,
     "start_time": "2021-07-21T04:37:21.268596",
     "status": "completed"
    },
    "tags": []
   },
   "outputs": [],
   "source": [
    "\n",
    "#acq=['GD','gp_ucb','EI','TS']\n",
    "acq=['GD','TS','GD_5']\n",
    "Mean_dict = {} \n",
    "std_dict={}\n",
    "k=0\n",
    "mean=np.zeros(300)\n",
    "std=np.zeros(300)\n",
    "seed=np.random.randint(10000, size=5)\n",
    "while(k<3):\n",
    "    temp_out=np.zeros(300)\n",
    "    seed_count=0\n",
    "    for m in range(0,5):\n",
    "        samples=[]\n",
    "        acquation_function=acq[k]\n",
    "        seeds=seed[seed_count]\n",
    "        Bo_test=GP_action(objective.func,function_bounds,Noise,Noise_level,acquation_function)\n",
    "        Bo_test.initiate(seeds,n_random_draws=5)\n",
    "        seed_count=seed_count+1\n",
    "        flag = True\n",
    "        i = 0\n",
    "        samples.append(Max-np.max(Bo_test.Y))\n",
    "        while flag:\n",
    "            if i >= (Budget-1) :\n",
    "                break\n",
    "            Bo_test.sample_new_value()\n",
    "            Regret= Max-np.max(Bo_test.Y)\n",
    "            samples.append(Regret)\n",
    "            i += 1\n",
    "    \n",
    "        out=np.array(samples)\n",
    "        temp_out=np.vstack((temp_out, out))\n",
    "        \n",
    "    temp_out = np.delete(temp_out,(0), axis=0)\n",
    "    mean_temp=np.mean(temp_out,axis=0)\n",
    "    std_temp=0.5*np.sqrt(np.var(temp_out,axis=0)) # Calculating the one sided interval for 90% confidence\n",
    "\n",
    "    mean=np.vstack((mean,mean_temp))\n",
    "    std=np.vstack((std,std_temp))\n",
    "    Mean_dict[acquation_function]=mean_temp\n",
    "    std_dict[acquation_function]=std_temp\n",
    "    k=k+1\n",
    "    \n"
   ]
  },
  {
   "cell_type": "code",
   "execution_count": null,
   "metadata": {
    "papermill": {
     "duration": 0.067396,
     "end_time": "2021-07-22T12:44:05.483480",
     "exception": false,
     "start_time": "2021-07-22T12:44:05.416084",
     "status": "completed"
    },
    "tags": []
   },
   "outputs": [],
   "source": [
    "def save_obj(obj, name ):\n",
    "    with open('data/'+ name + '.pkl', 'wb') as f:\n",
    "        pickle.dump(obj, f, pickle.HIGHEST_PROTOCOL)\n",
    "\n",
    "def load_obj(name ):\n",
    "    with open('data/' + name + '.pkl', 'rb') as f:\n",
    "        return pickle.load(f)"
   ]
  },
  {
   "cell_type": "code",
   "execution_count": null,
   "metadata": {
    "papermill": {
     "duration": 0.070046,
     "end_time": "2021-07-22T12:44:06.504710",
     "exception": false,
     "start_time": "2021-07-22T12:44:06.434664",
     "status": "completed"
    },
    "tags": []
   },
   "outputs": [],
   "source": [
    "#save_obj(Mean_dict,func_name+'_Mean_'+'noisy_'+'Regret')\n",
    "#save_obj(std_dict,func_name+'_Error_'+'noisy_'+'Regret')\n",
    "save_obj(Mean_dict,func_name+'_Mean_'+'Regret')\n",
    "save_obj(std_dict,func_name+'_Error_'+'Regret')\n",
    "\n"
   ]
  },
  {
   "cell_type": "code",
   "execution_count": null,
   "metadata": {
    "papermill": {
     "duration": 0.111966,
     "end_time": "2021-07-22T12:44:07.505124",
     "exception": false,
     "start_time": "2021-07-22T12:44:07.393158",
     "status": "completed"
    },
    "tags": []
   },
   "outputs": [],
   "source": [
    "plt.style.use('default')\n",
    "import seaborn as sns\n",
    "colors = sns.color_palette(\"dark\")\n",
    "greens = sns.color_palette(\"BuGn\", 10)\n",
    "blues = sns.color_palette(\"PuBu\", 10)\n",
    "reds = sns.color_palette(\"YlOrRd\", 10)\n",
    "purples = sns.color_palette(\"PuOr\", 10)\n",
    "\n",
    "def save_plot_T(mean,std):\n",
    "    GD=np.arange(0,300,1)\n",
    "    GP_UCB=np.arange(0,300,1)\n",
    "    EI=np.arange(0,300,1)\n",
    "    i=300\n",
    "    size=30 # error every size\n",
    "    \n",
    "    # naming the x axis \n",
    "    fig,(ax1)=plt.subplots(figsize=(4.5, 3))\n",
    "    plt.xlabel('Queries', fontsize=10) \n",
    "    # naming the y axis \n",
    "    plt.ylabel('Simple Regret',fontsize=10) \n",
    "    # giving a title to my graph \n",
    "    plt.title('')\n",
    "    # show a legend on the plot \n",
    "    plt.legend() \n",
    "    ax1.plot(GD[:i], mean['GD'][:i],'-',color=reds[-1]) \n",
    "#    ax1.plot(GP_UCB[:i], mean['gp_ucb'][:i],'--',color=blues[-1]) \n",
    " #   ax1.plot(EI[:i], mean['EI'][:i],'-.',color=purples[-1])\n",
    "    ax1.plot(EI[:i], mean['TS'][:i],'-.',color=greens[-1])\n",
    "    ax1.plot(GD[:i], mean['GD_5'][:i],'-',color=blues[-1]) \n",
    "    \n",
    "    ax1.errorbar(GD[:i],mean['GD'][:i],yerr=std['GD'][:i],label=\"GD\",linestyle='-',color=reds[-1],fmt='s',capsize=3,errorevery=size,markevery=size,lw=1.5)\n",
    " #   ax1.errorbar(GP_UCB[:i],mean['gp_ucb'][:i],yerr=std['gp_ucb'][:i],label=\"gp_ucb\",linestyle='--',color= blues[-1],fmt='^',capsize=3,errorevery=size,markevery=size,lw=1.5)\n",
    " #   ax1.errorbar(EI[:i],mean['EI'][:i],yerr=std['EI'][:i],label=\"EI\",linestyle='-.',color=purples[-1],fmt='>',capsize=3,errorevery=size,markevery=size,lw=1.5)\n",
    "    ax1.errorbar(EI[:i],mean['TS'][:i],yerr=std['TS'][:i],label=\"TS\",linestyle=':',color=greens[-1],fmt='x',capsize=3,errorevery=size,markevery=size,lw=1.5)\n",
    "    ax1.errorbar(GD[:i],mean['GD_5'][:i],yerr=std['GD_5'][:i],label=\"GD_5\",linestyle='--',color=blues[-1],fmt='>',capsize=3,errorevery=size,markevery=size,lw=1.5)\n",
    "\n",
    "\n",
    "    ax1.legend(loc='upper right',fontsize=10)\n",
    "    # function to show the plot\n",
    "#    plt.fill_between(x, mean[1]-std[1], mean[1]+std[1],color='C0', alpha = 0.3)\n",
    "#    plt.fill_between(x, mean[2]-std[2], mean[2]+std[2],color='C2', alpha = 0.3)\n",
    "#    plt.fill_between(x, mean[3]-std[3], mean[3]+std[3],color='C4', alpha = 0.3)\n",
    "    \n",
    "    plt.show()\n",
    "    fig.savefig('Ackley_noisless.pdf', bbox_inches='tight')"
   ]
  },
  {
   "cell_type": "code",
   "execution_count": null,
   "metadata": {
    "papermill": {
     "duration": 0.481461,
     "end_time": "2021-07-22T12:44:08.884604",
     "exception": false,
     "start_time": "2021-07-22T12:44:08.403143",
     "status": "completed"
    },
    "tags": []
   },
   "outputs": [],
   "source": [
    "#mean=load_obj(func_name+'_Mean_'+'noisy_'+'Regret')\n",
    "#error=load_obj(func_name+'_Error_'+'noisy_'+'Regret')\n",
    "mean=load_obj(func_name+'_Mean_'+'Regret')\n",
    "error=load_obj(func_name+'_Error_'+'Regret')\n",
    "save_plot_T(mean,error)\n"
   ]
  },
  {
   "cell_type": "code",
   "execution_count": null,
   "metadata": {
    "papermill": {
     "duration": 6e-06,
     "end_time": "2021-07-22T12:44:09.497519",
     "exception": null,
     "start_time": "2021-07-22T12:44:09.497513",
     "status": "completed"
    },
    "tags": []
   },
   "outputs": [],
   "source": []
  },
  {
   "cell_type": "code",
   "execution_count": null,
   "metadata": {
    "papermill": {
     "duration": 8e-06,
     "end_time": "2021-07-22T12:44:10.414645",
     "exception": null,
     "start_time": "2021-07-22T12:44:10.414637",
     "status": "completed"
    },
    "tags": []
   },
   "outputs": [],
   "source": []
  }
 ],
 "metadata": {
  "kernelspec": {
   "display_name": "Python [conda env:venv] *",
   "language": "python",
   "name": "conda-env-venv-py"
  },
  "language_info": {
   "codemirror_mode": {
    "name": "ipython",
    "version": 3
   },
   "file_extension": ".py",
   "mimetype": "text/x-python",
   "name": "python",
   "nbconvert_exporter": "python",
   "pygments_lexer": "ipython3",
   "version": "3.7.4"
  },
  "papermill": {
   "duration": 115612.378771,
   "end_time": "2021-07-22T12:44:11.806471",
   "environment_variables": {},
   "exception": false,
   "output_path": "output.ipynb",
   "parameters": null,
   "start_time": "2021-07-21T04:37:19.427700",
   "version": "0.10.1"
  }
 },
 "nbformat": 4,
 "nbformat_minor": 2
}

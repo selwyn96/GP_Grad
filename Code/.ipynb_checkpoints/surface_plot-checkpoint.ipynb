{
 "cells": [
  {
   "cell_type": "code",
   "execution_count": 1,
   "metadata": {},
   "outputs": [],
   "source": [
    "# Importing libraries\n",
    "import numpy as np\n",
    "%matplotlib inline\n",
    "import matplotlib.pyplot as plt\n",
    "from mpl_toolkits.mplot3d.axes3d import Axes3D\n",
    "from PIL import Image\n",
    "import functions\n",
    "from GP_action import GP_action\n",
    "import time\n",
    "import imageio\n",
    "import pickle\n",
    "from torch.quasirandom import SobolEngine\n"
   ]
  },
  {
   "cell_type": "code",
   "execution_count": 2,
   "metadata": {},
   "outputs": [
    {
     "data": {
      "text/plain": [
       "'If the scaled X and Y is being used rememeber to scale the noise as well'"
      ]
     },
     "execution_count": 2,
     "metadata": {},
     "output_type": "execute_result"
    }
   ],
   "source": [
    "Noise=False # Specify if noisy or not\n",
    "Noise_level= 0.05 # if noisy, what is the noise sd\n",
    "'''If the scaled X and Y is being used rememeber to scale the noise as well'''"
   ]
  },
  {
   "cell_type": "code",
   "execution_count": 7,
   "metadata": {},
   "outputs": [
    {
     "name": "stdout",
     "output_type": "stream",
     "text": [
      "[(-1, 3), (-1, 3), (-1, 3), (-1, 3), (-1, 3), (-1, 3), (-1, 3), (-1, 3), (-1, 3), (-1, 3)]\n",
      "[[-1  3]\n",
      " [-1  3]\n",
      " [-1  3]\n",
      " [-1  3]\n",
      " [-1  3]\n",
      " [-1  3]\n",
      " [-1  3]\n",
      " [-1  3]\n",
      " [-1  3]\n",
      " [-1  3]]\n",
      "-0.00012654436313797035\n"
     ]
    }
   ],
   "source": [
    "# The target function is assigned, chose 1 from the below\n",
    "\n",
    "objective=functions.Rosenbrock()\n",
    "objective=functions.Synthetic()\n",
    "objective=functions.Shubert()\n",
    "objective=functions.sin()\n",
    "objective=functions.sin_2(Noise,Noise_level)\n",
    "objective=functions.sincos(Noise,Noise_level)\n",
    "objective=functions.Branin()\n",
    "objective=functions.Griewank(Noise,Noise_level)\n",
    "objective=functions.Hartmann_3()\n",
    "objective=functions.Hartmann_6()\n",
    "objective=functions.Ackley()\n",
    "objective=functions.Levy_10()\n",
    "objective=functions.Kean(Noise,Noise_level)\n",
    "objective=functions.Shubert(Noise,Noise_level)\n",
    "objective=functions.Ackley_6()\n",
    "\n",
    "\n",
    "\n",
    "print(objective.bounds)\n",
    "# Extracting the bounded range of the inputs\n",
    "#func_bounds=bounds=np.array(\n",
    "#            [item[1] for item in sorted(objective.bounds.items(), key=lambda x: x[0])],dtype=np.float)\n",
    "func_bounds=np.array(objective.bounds)\n",
    "\n",
    "print(func_bounds)\n",
    "print(objective.func(np.array([0,0,0,0,0,0,0,0,0,0])))\n"
   ]
  },
  {
   "cell_type": "code",
   "execution_count": null,
   "metadata": {},
   "outputs": [],
   "source": [
    "# max budget for finding good point\n",
    "Budget=200\n",
    "\n",
    "# Acq_names=['PI','PG','EI','EG','gp_ucb','random','TS','SATS','G_ES','MES','GD']\n",
    "acquation_function='TS'\n",
    "function_bounds=func_bounds\n",
    "func_name='Ackley_6'"
   ]
  },
  {
   "cell_type": "code",
   "execution_count": null,
   "metadata": {},
   "outputs": [],
   "source": [
    "# creaing object and initalizing the first 3 samples.\n",
    "seed=np.random.randint(1000, size=1)\n",
    "Bo_test=GP_action(objective.func,function_bounds,Noise,Noise_level,acquation_function)\n",
    "Bo_test.initiate(seed,n_random_draws=5)\n",
    "Y_max=np.array([])\n",
    "\n",
    "\n",
    "# runs 1 round of optimization \n",
    "i=0\n",
    "for i in range(0,Budget):\n",
    "    Bo_test.sample_new_value()\n",
    "    print(\"recommended x={} current y={:.3f}, ymax={:.3f}\".format(Bo_test.X[-1],Bo_test.Y[-1],Bo_test.Y.max()))\n",
    "Y=Bo_test.Y"
   ]
  },
  {
   "cell_type": "code",
   "execution_count": null,
   "metadata": {},
   "outputs": [],
   "source": [
    "plt.style.use('default')\n",
    "import seaborn as sns\n",
    "reds = sns.color_palette(\"YlOrRd\", 10)\n",
    "\n",
    "\n",
    "x=np.arange(0,100,1)\n",
    "i=100\n",
    "# naming the x axis \n",
    "fig,(ax1)=plt.subplots(figsize=(4.5, 3))\n",
    "plt.xlabel('Queries', fontsize=10) \n",
    "# naming the y axis \n",
    "plt.ylabel('function value',fontsize=10) \n",
    "# giving a title to my graph \n",
    "plt.title('')\n",
    "# show a legend on the plot \n",
    "plt.legend() \n",
    "ax1.plot(x[:i], Y[:i],'-',label=\"GD\",color=reds[-1]) \n",
    "ax1.legend(loc='upper right',fontsize=10)\n",
    "plt.show()\n",
    "    "
   ]
  },
  {
   "cell_type": "code",
   "execution_count": null,
   "metadata": {},
   "outputs": [],
   "source": [
    "# Creates the .gif from the saved plots for the 2D_Plots dir.\n",
    "noise='Noisless' # Noisy or Noisless\n",
    "filenames = []\n",
    "for i in range(0,100):\n",
    "    filename = 'Shubert_Function_'+str(i)+'_'+noise+'.png'\n",
    "    filenames.append(filename)\n",
    "frames=[]\n",
    "for filename in filenames:\n",
    "    frames.append(imageio.imread('2D_Plots/'+filename))\n",
    "exportname = 'Shubert_Function_'+noise+'.gif'\n",
    "kargs = { 'duration': 0.5 }\n",
    "imageio.mimsave(exportname, frames, 'GIF', **kargs)"
   ]
  },
  {
   "cell_type": "code",
   "execution_count": null,
   "metadata": {},
   "outputs": [],
   "source": [
    "print(np.sort(np.random.uniform(0,0.3,size=100)))\n"
   ]
  },
  {
   "cell_type": "code",
   "execution_count": null,
   "metadata": {},
   "outputs": [],
   "source": []
  }
 ],
 "metadata": {
  "kernelspec": {
   "display_name": "Python [conda env:venv] *",
   "language": "python",
   "name": "conda-env-venv-py"
  },
  "language_info": {
   "codemirror_mode": {
    "name": "ipython",
    "version": 3
   },
   "file_extension": ".py",
   "mimetype": "text/x-python",
   "name": "python",
   "nbconvert_exporter": "python",
   "pygments_lexer": "ipython3",
   "version": "3.7.4"
  }
 },
 "nbformat": 4,
 "nbformat_minor": 2
}

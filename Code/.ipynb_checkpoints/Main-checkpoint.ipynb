{
 "cells": [
  {
   "cell_type": "code",
   "execution_count": null,
   "metadata": {
    "papermill": {
     "duration": 1.34932,
     "end_time": "2021-07-26T19:20:34.333658",
     "exception": false,
     "start_time": "2021-07-26T19:20:32.984338",
     "status": "completed"
    },
    "tags": []
   },
   "outputs": [],
   "source": [
    "# Importing libraries\n",
    "import numpy as np\n",
    "%matplotlib inline\n",
    "import matplotlib.pyplot as plt\n",
    "from mpl_toolkits.mplot3d.axes3d import Axes3D\n",
    "from PIL import Image\n",
    "import functions\n",
    "from GP_action import GP_action\n",
    "import time\n",
    "import imageio\n",
    "import pickle\n",
    "import math\n",
    "from turbo_1 import Turbo1\n",
    "import time\n",
    "import matplotlib\n"
   ]
  },
  {
   "cell_type": "code",
   "execution_count": null,
   "metadata": {
    "papermill": {
     "duration": 0.022314,
     "end_time": "2021-07-26T19:20:34.356212",
     "exception": false,
     "start_time": "2021-07-26T19:20:34.333898",
     "status": "completed"
    },
    "tags": []
   },
   "outputs": [],
   "source": [
    "Noise=False# Specify if noisy or not\n",
    "Noise_level= 0.05 # if noisy, what is the noise sd\n",
    "'''If the scaled X and Y is being used rememeber to scale the noise as well'''"
   ]
  },
  {
   "cell_type": "code",
   "execution_count": null,
   "metadata": {
    "papermill": {
     "duration": 0.026552,
     "end_time": "2021-07-26T19:20:34.382820",
     "exception": false,
     "start_time": "2021-07-26T19:20:34.356268",
     "status": "completed"
    },
    "tags": []
   },
   "outputs": [],
   "source": [
    "# The target function is assigned, chose 1 from the below\n",
    "\n",
    "objective=functions.Rosenbrock()\n",
    "objective=functions.Synthetic()\n",
    "objective=functions.sin()\n",
    "objective=functions.sin_2(Noise,Noise_level)\n",
    "objective=functions.sincos(Noise,Noise_level)\n",
    "objective=functions.Branin()\n",
    "objective=functions.Shubert(Noise,Noise_level)\n",
    "objective=functions.Kean(Noise,Noise_level)\n",
    "objective=functions.Shubert()\n",
    "objective=functions.Kean(Noise,Noise_level)\n",
    "objective=functions.Hartmann_3()\n",
    "objective=functions.Hartmann_6()\n",
    "objective=functions.Ackley_6()\n",
    "objective=functions.Ackley_6()\n",
    "objective=functions.Levy_10()\n",
    "objective=functions.Rastrigin()\n",
    "\n",
    "\n",
    "print(objective.bounds)\n",
    "# Extracting the bounded range of the inputs\n",
    "#func_bounds=bounds=np.array(\n",
    "#            [item[1] for item in sorted(objective.bounds.items(), key=lambda x: x[0])],dtype=np.float)\n",
    "func_bounds=np.array(objective.bounds)\n",
    "print(func_bounds)\n",
    "#print(objective.func(np.array([0,0,0,0,0,0,0,0,0,0])))\n"
   ]
  },
  {
   "cell_type": "code",
   "execution_count": null,
   "metadata": {},
   "outputs": [],
   "source": [
    "class Levy:\n",
    "    def __init__(self, dim=20):\n",
    "        self.dim = dim\n",
    "        self.lb = -5 * np.ones(dim)\n",
    "        self.ub = 10 * np.ones(dim)\n",
    "        \n",
    "    def __call__(self, coord):\n",
    "        if(coord.ndim==1):\n",
    "            coord=coord[np.newaxis,:]\n",
    "        first = 1 + (coord[:,0]- 1.0) / 4.0\n",
    "        last=1 + (coord[:,self.dim-1]- 1.0) / 4.0\n",
    "        constant= np.sin(np.pi * first) ** 2\n",
    "        sum_val=0\n",
    "        for i in range(0,self.dim-1):\n",
    "            w= 1 + (coord[:,i]- 1.0) / 4.0\n",
    "            sum_val=sum_val+ (w - 1) ** 2 * (1 + 10 * np.sin(np.pi * w + 1) ** 2) + (last - 1) ** 2 * (1 + np.sin(2 * np.pi * w)**2)\n",
    "        \n",
    "        output=constant+sum_val\n",
    "        return np.squeeze(output)\n",
    "\n",
    "class Rastrigin:\n",
    "    def __init__(self, dim=20):\n",
    "        self.dim = dim\n",
    "        self.lb = -3 * np.ones(dim)\n",
    "        self.ub =  4 * np.ones(dim)\n",
    "        \n",
    "    def __call__(self, coord):\n",
    "        if(coord.ndim==1):\n",
    "            coord=coord[np.newaxis,:]\n",
    "\n",
    "        first = 10*self.dim\n",
    "        sum_val=0\n",
    "        for i in range(0,self.dim):\n",
    "            sum_val=sum_val+(coord[:,i]**2 - 10 * np.cos(2*np.pi*coord[:,i]))\n",
    "        output=first+sum_val\n",
    "        return np.squeeze(1*output)\n",
    "    \n",
    "class Ackley:\n",
    "    def __init__(self, dim=20):\n",
    "        self.dim = dim\n",
    "        self.lb = -5 * np.ones(dim)\n",
    "        self.ub =  10 * np.ones(dim)\n",
    "        \n",
    "    def __call__(self, coord):\n",
    "        if(coord.ndim==1):\n",
    "            coord=coord[np.newaxis,:]\n",
    "        firstSum = 0.0\n",
    "        secondSum = 0.0\n",
    "        for i in range(0,self.dim):\n",
    "            c=coord[:,i]\n",
    "            firstSum += c**2.0\n",
    "            secondSum += np.cos(2.0*math.pi*c)\n",
    "        n = float(self.dim)\n",
    "        return np.squeeze(-20.0*np.exp(-0.2*np.sqrt(firstSum/n)) - np.exp(secondSum/n) + 20 + math.e)\n",
    "       \n",
    "    \n",
    "f = Rastrigin(20)"
   ]
  },
  {
   "cell_type": "code",
   "execution_count": null,
   "metadata": {
    "papermill": {
     "duration": 0.016943,
     "end_time": "2021-07-26T19:20:34.399859",
     "exception": false,
     "start_time": "2021-07-26T19:20:34.382916",
     "status": "completed"
    },
    "tags": []
   },
   "outputs": [],
   "source": [
    "# max budget for finding good point\n",
    "\n",
    "# Acq_names=['PI','PG','EI','EG','gp_ucb','random','TS','SATS','G_ES','MES','GD']\n",
    "acquation_function='gp_ucb'\n",
    "function_bounds=func_bounds\n",
    "func_name='Levy'\n",
    "Max= 0 # function max 3.86278, 3.32237\n",
    "Max_eval=300\n",
    "n_dim=20 # No of initial points\n",
    "Budget=Max_eval+n_dim-1"
   ]
  },
  {
   "cell_type": "code",
   "execution_count": null,
   "metadata": {},
   "outputs": [],
   "source": [
    "turbo1 = Turbo1(\n",
    "    f=f,  # Handle to objective function\n",
    "    lb=f.lb,  # Numpy array specifying lower bounds\n",
    "    ub=f.ub,  # Numpy array specifying upper bounds\n",
    "    n_init=n_dim,  # Number of initial bounds from an Latin hypercube design\n",
    "    max_evals = Budget,  # Maximum number of evaluations\n",
    "    batch_size=1,  # How large batch size TuRBO uses\n",
    "    verbose=True,  # Print information from each batch\n",
    "    use_ard=False,  # Set to true if you want to use ARD for the GP kernel\n",
    "    max_cholesky_size=2000,  # When we switch from Cholesky to Lanczos\n",
    "    n_training_steps=50,  # Number of steps of ADAM to learn the hypers\n",
    "    min_cuda=1024,  # Run on the CPU for small datasets\n",
    "    device=\"cpu\",  # \"cpu\" or \"cuda\"\n",
    "    dtype=\"float64\",  # float64 or float32\n",
    ")"
   ]
  },
  {
   "cell_type": "code",
   "execution_count": null,
   "metadata": {
    "papermill": {
     "duration": 1812.705141,
     "end_time": "2021-07-26T19:50:47.105092",
     "exception": false,
     "start_time": "2021-07-26T19:20:34.399951",
     "status": "completed"
    },
    "tags": []
   },
   "outputs": [],
   "source": [
    "\n",
    "#acq=['GD','gp_ucb','EI','TS']\n",
    "time_opt=np.array([]) \n",
    "acq=['Turbo','GD','GD_Turbo']\n",
    "Mean_dict = {} \n",
    "std_dict={}\n",
    "k=0\n",
    "mean=np.zeros(Max_eval)\n",
    "std=np.zeros(Max_eval)\n",
    "seed=np.random.randint(10000, size=5)\n",
    "initial_X=np.array([])\n",
    "while(k<3):\n",
    "    temp_out=np.zeros(Max_eval)\n",
    "    seed_count=0\n",
    "    start_opt=time.time()\n",
    "    for m in range(0,5):\n",
    "        samples=[]\n",
    "        acquation_function=acq[k]\n",
    "        if(acquation_function=='Turbo'):\n",
    "            turbo1 = Turbo1(\n",
    "    f=f,  # Handle to objective function\n",
    "    lb=f.lb,  # Numpy array specifying lower bounds\n",
    "    ub=f.ub,  # Numpy array specifying upper bounds\n",
    "    n_init=n_dim,  # Number of initial bounds from an Latin hypercube design\n",
    "    max_evals = Budget,  # Maximum number of evaluations\n",
    "    batch_size=1,  # How large batch size TuRBO uses\n",
    "    verbose=True,  # Print information from each batch\n",
    "    use_ard=False,  # Set to true if you want to use ARD for the GP kernel\n",
    "    max_cholesky_size=2000,  # When we switch from Cholesky to Lanczos\n",
    "    n_training_steps=50,  # Number of steps of ADAM to learn the hypers\n",
    "    min_cuda=1024,  # Run on the CPU for small datasets\n",
    "    device=\"cpu\",  # \"cpu\" or \"cuda\"\n",
    "    dtype=\"float64\",  # float64 or float32\n",
    ")\n",
    "            turbo1.optimize()\n",
    "            X_temp=turbo1.X[0:n_dim]\n",
    "            if(m==0):\n",
    "                initial_X=X_temp\n",
    "            else:\n",
    "                initial_X=np.vstack((initial_X,X_temp))\n",
    "            Y_value=np.array([])\n",
    "            j=n_dim\n",
    "            while(j<=Budget):\n",
    "                Y_value=np.append(Y_value,np.min(np.squeeze(turbo1.fX[:j])))\n",
    "                j=j+1\n",
    "            samples=Y_value-Max\n",
    "        else:\n",
    "            seeds=seed[seed_count]\n",
    "            Bo_test=GP_action(objective.func,function_bounds,Noise,Noise_level,acquation_function)\n",
    "            X_start=initial_X[m*n_dim:(m+1)*n_dim]\n",
    "            Bo_test.initiate(X_start,n_dim)\n",
    "         #   Bo_test.initiate(seeds,n_random_draws=5)\n",
    "            seed_count=seed_count+1\n",
    "            flag = True\n",
    "            i = 0\n",
    "            samples.append(Max-np.max(Bo_test.Y))\n",
    "            while flag:\n",
    "                if i >= (Max_eval-1) :\n",
    "                    break\n",
    "                Bo_test.sample_new_value()\n",
    "                Regret= Max-np.max(Bo_test.Y)\n",
    "                samples.append(Regret)\n",
    "                i += 1\n",
    "        out=np.array(samples)\n",
    "        temp_out=np.vstack((temp_out, out))\n",
    "    finished_opt=time.time()\n",
    "    time_opt=np.append(time_opt,finished_opt-start_opt)\n",
    "    temp_out = np.delete(temp_out,(0), axis=0)\n",
    "    mean_temp=np.mean(temp_out,axis=0)\n",
    "    std_temp=0.5*np.sqrt(np.var(temp_out,axis=0)) # Calculating the one sided interval for 90% confidence\n",
    "\n",
    "    mean=np.vstack((mean,mean_temp))\n",
    "    std=np.vstack((std,std_temp))\n",
    "    Mean_dict[acquation_function]=mean_temp\n",
    "    std_dict[acquation_function]=std_temp\n",
    "    k=k+1\n",
    "    \n"
   ]
  },
  {
   "cell_type": "code",
   "execution_count": null,
   "metadata": {
    "papermill": {
     "duration": 0.076045,
     "end_time": "2021-07-26T19:50:47.181329",
     "exception": false,
     "start_time": "2021-07-26T19:50:47.105284",
     "status": "completed"
    },
    "tags": []
   },
   "outputs": [],
   "source": [
    "def save_obj(obj, name ):\n",
    "    with open('data/'+ name + '.pkl', 'wb') as f:\n",
    "        pickle.dump(obj, f, pickle.HIGHEST_PROTOCOL)\n",
    "\n",
    "def load_obj(name ):\n",
    "    with open('data/' + name + '.pkl', 'rb') as f:\n",
    "        return pickle.load(f)"
   ]
  },
  {
   "cell_type": "code",
   "execution_count": null,
   "metadata": {
    "papermill": {
     "duration": 0.046485,
     "end_time": "2021-07-26T19:50:48.086994",
     "exception": false,
     "start_time": "2021-07-26T19:50:48.040509",
     "status": "completed"
    },
    "tags": []
   },
   "outputs": [],
   "source": [
    "#save_obj(Mean_dict,func_name+'_Mean_'+'noisy_'+'Regret')\n",
    "#save_obj(std_dict,func_name+'_Error_'+'noisy_'+'Regret')\n",
    "save_obj(Mean_dict,func_name+'_Mean_'+'Regret')\n",
    "save_obj(std_dict,func_name+'_Error_'+'Regret')\n",
    "\n"
   ]
  },
  {
   "cell_type": "code",
   "execution_count": null,
   "metadata": {
    "papermill": {
     "duration": 0.105904,
     "end_time": "2021-07-26T19:50:49.184252",
     "exception": false,
     "start_time": "2021-07-26T19:50:49.078348",
     "status": "completed"
    },
    "tags": []
   },
   "outputs": [],
   "source": [
    "plt.style.use('default')\n",
    "import seaborn as sns\n",
    "colors = sns.color_palette(\"dark\")\n",
    "greens = sns.color_palette(\"BuGn\", 10)\n",
    "blues = sns.color_palette(\"PuBu\", 10)\n",
    "reds = sns.color_palette(\"YlOrRd\", 10)\n",
    "purples = sns.color_palette(\"PuOr\", 10)\n",
    "\n",
    "def save_plot_T(mean,std):\n",
    "    GD=np.arange(0,Max_eval,1)\n",
    "    GP_UCB=np.arange(0,Max_eval,1)\n",
    "    EI=np.arange(0,Max_eval,1)\n",
    "    i=Max_eval\n",
    "    size=30 # error every size\n",
    "    \n",
    "    # naming the x axis \n",
    "    fig,(ax1)=plt.subplots(figsize=(4.5, 3))\n",
    "    plt.xlabel('Queries', fontsize=10) \n",
    "    # naming the y axis \n",
    "    plt.ylabel('Simple Regret',fontsize=10) \n",
    "    # giving a title to my graph \n",
    "    plt.title('')\n",
    "    # show a legend on the plot \n",
    "    plt.legend() \n",
    "    ax1.plot(GD[:i], mean['GD'][:i],'-',color=reds[-1]) \n",
    "#    ax1.plot(GP_UCB[:i], mean['gp_ucb'][:i],'--',color=blues[-1]) \n",
    " #   ax1.plot(EI[:i], mean['EI'][:i],'-.',color=purples[-1])\n",
    " #   ax1.plot(EI[:i], mean['TS'][:i],'-.',color=greens[-1])\n",
    " #   ax1.plot(GD[:i], mean['GD_5'][:i],'-',color=blues[-1]) \n",
    "    ax1.plot(GD[:i], mean['Turbo'][:i],'-',color=purples[-1]) \n",
    "    ax1.plot(GD[:i], mean['GD_Turbo'][:i],'-',color=greens[-1]) \n",
    "    \n",
    "    ax1.errorbar(GD[:i],mean['GD'][:i],yerr=std['GD'][:i],label=\"Random_LS\",linestyle='-',color=reds[-1],fmt='s',capsize=3,errorevery=size,markevery=size,lw=1.5)\n",
    " #   ax1.errorbar(GP_UCB[:i],mean['gp_ucb'][:i],yerr=std['gp_ucb'][:i],label=\"gp_ucb\",linestyle='--',color= blues[-1],fmt='^',capsize=3,errorevery=size,markevery=size,lw=1.5)\n",
    " #   ax1.errorbar(EI[:i],mean['EI'][:i],yerr=std['EI'][:i],label=\"EI\",linestyle='-.',color=purples[-1],fmt='>',capsize=3,errorevery=size,markevery=size,lw=1.5)\n",
    " #   ax1.errorbar(EI[:i],mean['TS'][:i],yerr=std['TS'][:i],label=\"TS\",linestyle=':',color=greens[-1],fmt='x',capsize=3,errorevery=size,markevery=size,lw=1.5)\n",
    " #   ax1.errorbar(GD[:i],mean['GD_5'][:i],yerr=std['GD_5'][:i],label=\"GD_m\",linestyle='--',color=blues[-1],fmt='>',capsize=3,errorevery=size,markevery=size,lw=1.5)\n",
    "    ax1.errorbar(GD[:i],mean['Turbo'][:i],yerr=std['Turbo'][:i],label=\"Turbo\",linestyle='-.',color=purples[-1],fmt='^',capsize=3,errorevery=size,markevery=size,lw=1.5)\n",
    "    ax1.errorbar(GD[:i],mean['GD_Turbo'][:i],yerr=std['GD_Turbo'][:i],label=\"'GD_Turbo'\",linestyle=':',color=greens[-1],fmt='x',capsize=3,errorevery=size,markevery=size,lw=1.5)\n",
    "\n",
    "\n",
    "\n",
    "\n",
    "    ax1.legend(loc='upper right',fontsize=10)\n",
    "    # function to show the plot\n",
    "#    plt.fill_between(x, mean[1]-std[1], mean[1]+std[1],color='C0', alpha = 0.3)\n",
    "#    plt.fill_between(x, mean[2]-std[2], mean[2]+std[2],color='C2', alpha = 0.3)\n",
    "#    plt.fill_between(x, mean[3]-std[3], mean[3]+std[3],color='C4', alpha = 0.3)\n",
    "    \n",
    "    plt.show()\n",
    "    fig.savefig('Ackley_noisless.pdf', bbox_inches='tight')"
   ]
  },
  {
   "cell_type": "code",
   "execution_count": null,
   "metadata": {
    "papermill": {
     "duration": 0.470169,
     "end_time": "2021-07-26T19:50:50.396476",
     "exception": false,
     "start_time": "2021-07-26T19:50:49.926307",
     "status": "completed"
    },
    "tags": []
   },
   "outputs": [],
   "source": [
    "#mean=load_obj(func_name+'_Mean_'+'noisy_'+'Regret')\n",
    "#error=load_obj(func_name+'_Error_'+'noisy_'+'Regret')\n",
    "mean=load_obj(func_name+'_Mean_'+'Regret')\n",
    "error=load_obj(func_name+'_Error_'+'Regret')\n",
    "save_plot_T(mean,error)\n"
   ]
  },
  {
   "cell_type": "code",
   "execution_count": null,
   "metadata": {},
   "outputs": [],
   "source": [
    "Bo_test.Y=Bo_test.Y*-1\n",
    "fig = plt.figure(figsize=(7, 5))\n",
    "matplotlib.rcParams.update({'font.size': 16})\n",
    "plt.plot(Bo_test.Y, 'b.', ms=10)  # Plot all evaluated points as blue dots\n",
    "plt.plot(np.minimum.accumulate(Bo_test.Y), 'r', lw=3)  # Plot cumulative minimum as a red line\n",
    "plt.xlim([0, len(Bo_test.Y)])\n",
    "plt.ylim([0, 25])\n",
    "plt.title(\"Function Plot GD\")\n",
    "\n",
    "plt.tight_layout()\n",
    "plt.show()"
   ]
  },
  {
   "cell_type": "code",
   "execution_count": null,
   "metadata": {
    "papermill": {
     "duration": 8e-06,
     "end_time": "2021-07-26T19:50:50.671293",
     "exception": null,
     "start_time": "2021-07-26T19:50:50.671285",
     "status": "completed"
    },
    "tags": []
   },
   "outputs": [],
   "source": [
    "print(time_opt/5) #time for one run of Turbo,GD"
   ]
  },
  {
   "cell_type": "code",
   "execution_count": null,
   "metadata": {
    "papermill": {
     "duration": 9e-06,
     "end_time": "2021-07-26T19:50:51.319261",
     "exception": null,
     "start_time": "2021-07-26T19:50:51.319252",
     "status": "completed"
    },
    "tags": []
   },
   "outputs": [],
   "source": []
  },
  {
   "cell_type": "code",
   "execution_count": null,
   "metadata": {},
   "outputs": [],
   "source": []
  }
 ],
 "metadata": {
  "kernelspec": {
   "display_name": "Python [conda env:venv] *",
   "language": "python",
   "name": "conda-env-venv-py"
  },
  "language_info": {
   "codemirror_mode": {
    "name": "ipython",
    "version": 3
   },
   "file_extension": ".py",
   "mimetype": "text/x-python",
   "name": "python",
   "nbconvert_exporter": "python",
   "pygments_lexer": "ipython3",
   "version": "3.7.4"
  },
  "papermill": {
   "duration": 1820.271786,
   "end_time": "2021-07-26T19:50:52.611795",
   "environment_variables": {},
   "exception": false,
   "output_path": "output.ipynb",
   "parameters": null,
   "start_time": "2021-07-26T19:20:32.340009",
   "version": "0.10.1"
  }
 },
 "nbformat": 4,
 "nbformat_minor": 2
}

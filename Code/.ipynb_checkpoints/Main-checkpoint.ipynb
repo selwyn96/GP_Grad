{
 "cells": [
  {
   "cell_type": "code",
   "execution_count": null,
   "metadata": {},
   "outputs": [],
   "source": [
    "# Importing libraries\n",
    "import numpy as np\n",
    "%matplotlib inline\n",
    "import matplotlib.pyplot as plt\n",
    "from mpl_toolkits.mplot3d.axes3d import Axes3D\n",
    "from PIL import Image\n",
    "import functions\n",
    "from GP_action import GP_action\n",
    "import time\n",
    "import imageio"
   ]
  },
  {
   "cell_type": "code",
   "execution_count": null,
   "metadata": {},
   "outputs": [],
   "source": [
    "Noise= True # Specify if noisy or not\n",
    "Noise_level= 0.05 # if noisy, what is the noise sd\n",
    "'''If the scaled X and Y is being used rememeber to scale the noise as well'''"
   ]
  },
  {
   "cell_type": "code",
   "execution_count": null,
   "metadata": {},
   "outputs": [],
   "source": [
    "# The target function is assigned, chose 1 from the below\n",
    "objective=functions.Shubert()\n",
    "objective=functions.Branin()\n",
    "objective=functions.Hartmann_6()\n",
    "objective=functions.Hartmann_3()\n",
    "objective=functions.Ackley()\n",
    "objective=functions.Rosenbrock()\n",
    "objective=functions.sin()\n",
    "objective=functions.Synthetic()\n",
    "objective=functions.Kean()\n",
    "objective=functions.sincos(Noise,Noise_level)\n",
    "objective=functions.sin(Noise,Noise_level)\n",
    "\n",
    "\n",
    "\n",
    "print(objective.bounds)\n",
    "# Extracting the bounded range of the inputs\n",
    "func_bounds=bounds=np.array(\n",
    "            [item[1] for item in sorted(objective.bounds.items(), key=lambda x: x[0])],dtype=np.float)\n",
    "print(func_bounds)\n",
    "print(objective.func(np.array([3,1])))\n"
   ]
  },
  {
   "cell_type": "code",
   "execution_count": null,
   "metadata": {},
   "outputs": [],
   "source": [
    "# max budget for finding good point\n",
    "Budget=100\n",
    "\n",
    "# Acq_names=['PI','PG','EI','EG','gp_ucb','random','TS','SATS','G_ES','MES']\n",
    "acquation_function='random'\n",
    "function_bounds=func_bounds\n"
   ]
  },
  {
   "cell_type": "code",
   "execution_count": null,
   "metadata": {},
   "outputs": [],
   "source": [
    "# creaing object and initalizing the first 3 samples.\n",
    "seed=np.random.randint(1000, size=1)\n",
    "Bo_test=GP_action(objective.func,function_bounds,Noise,Noise_level,acquation_function)\n",
    "Bo_test.initiate(seed,n_random_draws=3)\n",
    "\n",
    "\n",
    "# runs 1 round of optimization \n",
    "i=0\n",
    "for i in range(0,Budget):\n",
    "    Bo_test.sample_new_value()\n",
    "    print(\"recommended x={} current y={:.3f}, ymax={:.3f}\".format(Bo_test.X[-1],Bo_test.Y[-1],Bo_test.Y.max()))\n",
    "    "
   ]
  },
  {
   "cell_type": "code",
   "execution_count": null,
   "metadata": {},
   "outputs": [],
   "source": [
    "# Creates the .gif from the saved plots for the 2D_Plots dir.\n",
    "noise='Noisy' # Noisy or Noisless\n",
    "filenames = []\n",
    "for i in range(0,100):\n",
    "    filename = 'SinxSiny_'+str(i)+'_'+noise+' .png'\n",
    "    filenames.append(filename)\n",
    "frames=[]\n",
    "for filename in filenames:\n",
    "    frames.append(imageio.imread('2D_Plots/'+filename))\n",
    "exportname = 'SinxSiny_'+noise+'.gif'\n",
    "kargs = { 'duration': 0.5 }\n",
    "imageio.mimsave(exportname, frames, 'GIF', **kargs)"
   ]
  },
  {
   "cell_type": "code",
   "execution_count": null,
   "metadata": {},
   "outputs": [],
   "source": []
  },
  {
   "cell_type": "code",
   "execution_count": null,
   "metadata": {},
   "outputs": [],
   "source": []
  }
 ],
 "metadata": {
  "kernelspec": {
   "display_name": "Python [conda env:venv] *",
   "language": "python",
   "name": "conda-env-venv-py"
  },
  "language_info": {
   "codemirror_mode": {
    "name": "ipython",
    "version": 3
   },
   "file_extension": ".py",
   "mimetype": "text/x-python",
   "name": "python",
   "nbconvert_exporter": "python",
   "pygments_lexer": "ipython3",
   "version": "3.7.4"
  }
 },
 "nbformat": 4,
 "nbformat_minor": 2
}

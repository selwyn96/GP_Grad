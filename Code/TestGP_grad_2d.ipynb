{
 "cells": [
  {
   "cell_type": "code",
   "execution_count": null,
   "metadata": {},
   "outputs": [],
   "source": [
    "import numpy as np\n",
    "%matplotlib inline\n",
    "import matplotlib.pyplot as pl\n",
    "from mpl_toolkits.mplot3d.axes3d import Axes3D\n",
    "from PIL import Image\n",
    "import functions\n",
    "from GP import GP\n",
    "from GP_grad import GP_grad\n",
    "import time\n",
    "import imageio"
   ]
  },
  {
   "cell_type": "code",
   "execution_count": null,
   "metadata": {},
   "outputs": [],
   "source": [
    "Noise = True # Specify if noisy or not\n",
    "Noise_level = 0.01 # if noisy, what is the noise sd\n",
    "'''If use the scaled X and Y, rememeber to scale the noise as well'''"
   ]
  },
  {
   "cell_type": "code",
   "execution_count": null,
   "metadata": {},
   "outputs": [],
   "source": [
    "objective = functions.sincos(Noise, Noise_level)\n",
    "# objective = functions.sin(Noise, Noise_level)\n",
    "\n",
    "bounds = np.array([item[1] for item in sorted(objective.bounds.items(), key=lambda x: x[0])], dtype=np.float64)\n",
    "print(bounds) \n",
    "\n",
    "f = objective.func\n",
    "print(f( np.array([2, 1]) ))\n",
    "# np.sin(np.array([2, 1]))\n",
    "\n",
    "dim = objective.input_dim\n",
    "print('dim: ', dim)"
   ]
  },
  {
   "cell_type": "code",
   "execution_count": null,
   "metadata": {},
   "outputs": [],
   "source": [
    "# max budget for finding good point\n",
    "Budget = 4\n",
    "# set seed\n",
    "seed = 0\n",
    "# Acq_names=['PI','PG','EI','EG','gp_ucb','random','TS','SATS','G_ES','MES']\n",
    "acquation_function = 'random'"
   ]
  },
  {
   "cell_type": "code",
   "execution_count": null,
   "metadata": {},
   "outputs": [],
   "source": [
    "def draw(n_random_draws=3):\n",
    "    \"\"\" samples some points\"\"\"\n",
    "    # np.random.seed(seed) \n",
    "    # should draw randomly\n",
    "    X = np.random.uniform(bounds[:, 0], bounds[:, 1], size=(n_random_draws, dim))\n",
    "    return X, f(X)\n",
    "\n",
    "gp = GP_grad(bounds, Noise, Noise_level)\n",
    "\n",
    "def get_kernel(sample_size=4):\n",
    "    np.random.seed(seed)\n",
    "    X = np.asarray(np.random.uniform(bounds[:, 0], bounds[:, 1], size=(sample_size, dim)))\n",
    "    gp.set_data(X, f(X))\n",
    "    # gp.optimize()\n",
    "    gp.fit()\n",
    "    return gp.get_hyper()"
   ]
  },
  {
   "cell_type": "code",
   "execution_count": null,
   "metadata": {},
   "outputs": [],
   "source": [
    "# creating meshgrid to plot over entire range\n",
    "x1 = np.linspace(2, 10, 100)\n",
    "x2 = np.linspace(2, 10, 100)\n",
    "\n",
    "X1, X2 = np.meshgrid(x1, x2)\n",
    "mesh = np.vstack((X1.flatten(), X2.flatten())).T"
   ]
  },
  {
   "cell_type": "code",
   "execution_count": null,
   "metadata": {},
   "outputs": [],
   "source": [
    "get_kernel()\n",
    "n = 50\n",
    "\n",
    "# posterior mean and cov\n",
    "mu, covar = gp.posterior(mesh)\n",
    "s = np.sqrt(np.diag(covar))\n",
    "mu = np.squeeze(mu)\n",
    "\n",
    "Kt = gp.cov_RBF(mesh, mesh, gp.get_hyper())\n",
    "K_11 = gp.K11(mesh)\n",
    "K_01 = gp.K01(mesh)"
   ]
  },
  {
   "cell_type": "code",
   "execution_count": null,
   "metadata": {},
   "outputs": [],
   "source": [
    "gp.X.shape, gp.y.shape"
   ]
  },
  {
   "cell_type": "code",
   "execution_count": null,
   "metadata": {},
   "outputs": [],
   "source": [
    "K_11.shape, K_01.shape"
   ]
  },
  {
   "cell_type": "code",
   "execution_count": null,
   "metadata": {},
   "outputs": [],
   "source": [
    "# posterior of derivative\n",
    "# partial x1\n",
    "gp.set_p(0)\n",
    "mu_grad_1, covar_grad_1 = gp.posterior_grad(mesh)\n",
    "s_grad_1 = np.sqrt(np.diag(covar_grad_1))\n",
    "mu_grad_1 = np.squeeze(mu_grad_1)\n",
    "\n",
    "# partial x2\n",
    "gp.set_p(1)\n",
    "mu_grad_2, covar_grad_2 = gp.posterior_grad(mesh)\n",
    "s_grad_2 = np.sqrt(np.diag(covar_grad_2))\n",
    "mu_grad_2 = np.squeeze(mu_grad_2)"
   ]
  },
  {
   "cell_type": "code",
   "execution_count": null,
   "metadata": {},
   "outputs": [],
   "source": [
    "mu_grad_1.shape, covar_grad_1.shape"
   ]
  },
  {
   "cell_type": "code",
   "execution_count": null,
   "metadata": {},
   "outputs": [],
   "source": [
    "\n",
    "fig, ((ax1, ax2)) = pl.subplots(\n",
    "    nrows=1, ncols=2, figsize=(14, 6), dpi=100\n",
    ")\n",
    "\n",
    "im = ax2.pcolormesh(X1, X2, s.reshape(X1.shape), cmap=\"jet\")\n",
    "fig.colorbar(im, ax=ax2)\n",
    "\n",
    "im1 = ax1.contour(X1, X2, (np.sin(mesh[:,0])*np.cos(mesh[:,1])/np.sqrt(mesh[:,0]*mesh[:,1])).reshape(X1.shape), cmap=\"PuBuGn\")\n",
    "im2 = ax1.contour(X1, X2, mu.reshape(X1.shape), cmap=\"YlOrRd\")\n",
    "\n",
    "fig.colorbar(im1, ax=ax1)\n",
    "fig.colorbar(im2, ax=ax1)\n",
    "\n",
    "ax1.plot(gp.X[:, 0], gp.X[:, 1], \"ok\", markersize=5, alpha=0.8)\n",
    "ax1.title.set_text(\"Contour of Noisy sin(x)cos(y)/sqrt(xy)\")\n",
    "ax2.title.set_text(\"Standard deviation\")"
   ]
  },
  {
   "cell_type": "code",
   "execution_count": null,
   "metadata": {},
   "outputs": [],
   "source": [
    "x = mesh[:,0]\n",
    "y = mesh[:,1]\n",
    "p1 = y*np.cos(y)* ( (2*x*np.cos(x)) - np.sin(x) ) / (2* (x*y)**(3/2))\n",
    "p2 = - x*np.sin(x)* ( (2*y*np.sin(y)) + np.cos(y) ) / (2* (x*y)**(3/2))\n",
    "\n",
    "# out_0 = (np.sin(t[:, 1]) * (2 * t[:, 0] * np.cos(t[:, 0]) - np.sin(t[:, 0]))) / (\n",
    "#     2 * t[:, 0] * np.sqrt(t[:, 0]) * np.sqrt(t[:, 1])\n",
    "# )\n",
    "# out_1 = (np.sin(t[:, 0]) * (2 * t[:, 1] * np.cos(t[:, 1]) - np.sin(t[:, 1]))) / (\n",
    "#     2 * t[:, 1] * np.sqrt(t[:, 0]) * np.sqrt(t[:, 1])\n",
    "# )\n",
    "fig, ((ax1, ax2), (ax3, ax4)) = pl.subplots(\n",
    "    nrows=2, ncols=2, figsize=(14, 9), dpi=100\n",
    ")\n",
    "\n",
    "im = ax2.pcolormesh(X1, X2, s_grad_1.reshape(X1.shape), cmap=\"jet\")\n",
    "fig.colorbar(im, ax=ax2)\n",
    "im1 = ax1.contour(X1, X2, p1.reshape(X1.shape), cmap=\"PuBuGn\")\n",
    "im2 = ax1.contour(X1, X2, mu_grad_1.reshape(X1.shape), cmap=\"YlOrRd\")\n",
    "\n",
    "fig.colorbar(im1, ax=ax1)\n",
    "fig.colorbar(im2, ax=ax1)\n",
    "\n",
    "ax1.plot(gp.X[:, 0], gp.X[:, 1], \"ok\", markersize=5, alpha=0.8)\n",
    "ax1.title.set_text(\"Mean of Posterior Pratial x\")\n",
    "ax2.title.set_text(\"Std of Posterior Pratial x\")\n",
    "\n",
    "im3 = ax4.pcolormesh(X1, X2, s_grad_2.reshape(X1.shape), cmap=\"jet\")\n",
    "fig.colorbar(im3, ax=ax4)\n",
    "im4 = ax3.contour(X1, X2, p2.reshape(X1.shape), cmap=\"PuBuGn\")\n",
    "im5 = ax3.contour(X1, X2, mu_grad_2.reshape(X1.shape), cmap=\"YlOrRd\")\n",
    "\n",
    "fig.colorbar(im4, ax=ax3)\n",
    "fig.colorbar(im5, ax=ax3)\n",
    "\n",
    "ax3.plot(gp.X[:, 0], gp.X[:, 1], \"ok\", markersize=5, alpha=0.8)\n",
    "ax3.title.set_text(\"Mean of Posterior Pratial y\")\n",
    "ax4.title.set_text(\"Std of Posterior Pratial y\")\n",
    "\n",
    "pl.show()"
   ]
  },
  {
   "cell_type": "code",
   "execution_count": null,
   "metadata": {},
   "outputs": [],
   "source": [
    "gp = GP_grad(bounds, Noise, Noise_level)\n",
    "Budget = 10\n",
    "np.random.seed(seed)  \n",
    "\n",
    "X = np.asarray(np.random.uniform(bounds[:, 0], bounds[:, 1], size=(4, dim)))\n",
    "gp.set_data(X, f(X))\n",
    "gp.fit()\n",
    "mu, covar = gp.posterior(mesh)\n",
    "\n",
    "for i in range(1,  Budget):\n",
    "    # posterior of GP given gp.X, gp.y\n",
    "    x = mesh[:,0]\n",
    "    y = mesh[:,1]\n",
    "\n",
    "    mu, covar = gp.posterior(mesh)\n",
    "    s = np.sqrt(np.diag(covar))\n",
    "    mu = np.squeeze(mu)\n",
    "\n",
    "    # posterior of GP derivative given gp.X, gp.y\n",
    "    gp.set_p(0)\n",
    "    mu_grad_1, covar_grad_1 = gp.posterior_grad(mesh)\n",
    "    s_grad_1 = np.sqrt(np.diag(covar_grad_1))\n",
    "    mu_grad_1 = np.squeeze(mu_grad_1)\n",
    "\n",
    "    # partial x2\n",
    "    gp.set_p(1)\n",
    "    mu_grad_2, covar_grad_2 = gp.posterior_grad(mesh)\n",
    "    s_grad_2 = np.sqrt(np.diag(covar_grad_2))\n",
    "    mu_grad_2 = np.squeeze(mu_grad_2)\n",
    "\n",
    "    fig, ((ax1, ax2), (ax3, ax4), (ax5, ax6)) = pl.subplots(3, 2, figsize=(20, 12))\n",
    "\n",
    "    # plot function\n",
    "    im = ax2.pcolormesh(X1, X2, s.reshape(X1.shape), cmap=\"jet\")\n",
    "    fig.colorbar(im, ax=ax2)\n",
    "\n",
    "    im1 = ax1.contour(X1, X2, (np.sin(x)*np.cos(y)/np.sqrt(x*y)).reshape(X1.shape), cmap=\"PuBuGn\")\n",
    "    im2 = ax1.contour(X1, X2, mu.reshape(X1.shape), cmap=\"YlOrRd\")\n",
    "\n",
    "    fig.colorbar(im1, ax=ax1)\n",
    "    fig.colorbar(im2, ax=ax1)\n",
    "\n",
    "    ax1.plot(gp.X[:, 0], gp.X[:, 1], \"ok\", markersize=5, alpha=0.8)\n",
    "    ax1.title.set_text(\"Contour of Noisy sin(x)cos(y)/sqrt(xy)\")\n",
    "    ax2.title.set_text(\"Standard deviation\")\n",
    "\n",
    "    # plot derivative\n",
    "    p1 = y*np.cos(y)* ( (2*x*np.cos(x)) - np.sin(x) ) / (2* (x*y)**(3/2))\n",
    "    p2 = - x*np.sin(x)* ( (2*y*np.sin(y)) + np.cos(y) ) / (2* (x*y)**(3/2))\n",
    "\n",
    "    im = ax4.pcolormesh(X1, X2, s_grad_1.reshape(X1.shape), cmap=\"jet\")\n",
    "    fig.colorbar(im, ax=ax4)\n",
    "    im1 = ax3.contour(X1, X2, p1.reshape(X1.shape), cmap=\"PuBuGn\")\n",
    "    im2 = ax3.contour(X1, X2, mu_grad_1.reshape(X1.shape), cmap=\"YlOrRd\")\n",
    "\n",
    "    fig.colorbar(im1, ax=ax3)\n",
    "    fig.colorbar(im2, ax=ax3)\n",
    "\n",
    "    ax3.plot(gp.X[:, 0], gp.X[:, 1], \"ok\", markersize=5, alpha=0.8)\n",
    "    ax3.title.set_text(\"Mean of Posterior Pratial x\")\n",
    "    ax4.title.set_text(\"Std of Posterior Pratial x\")\n",
    "\n",
    "    im3 = ax6.pcolormesh(X1, X2, s_grad_2.reshape(X1.shape), cmap=\"jet\")\n",
    "    fig.colorbar(im3, ax=ax6)\n",
    "    im4 = ax5.contour(X1, X2, p2.reshape(X1.shape), cmap=\"PuBuGn\")\n",
    "    im5 = ax5.contour(X1, X2, mu_grad_2.reshape(X1.shape), cmap=\"YlOrRd\")\n",
    "\n",
    "    fig.colorbar(im4, ax=ax5)\n",
    "    fig.colorbar(im5, ax=ax5)\n",
    "\n",
    "    ax5.plot(gp.X[:, 0], gp.X[:, 1], \"ok\", markersize=5, alpha=0.8)\n",
    "    ax5.title.set_text(\"Mean of Posterior Pratial y\")\n",
    "    ax6.title.set_text(\"Std of Posterior Pratial y\")\n",
    "\n",
    "    pl.show()\n",
    "\n",
    "    # sample a new point\n",
    "    X, f_X = draw(1)\n",
    "    gp.add_data(X, f_X)\n",
    "    gp.fit()"
   ]
  },
  {
   "cell_type": "code",
   "execution_count": null,
   "metadata": {},
   "outputs": [],
   "source": [
    "f(np.random.uniform(1, 10, size=(1, 2))).shape"
   ]
  },
  {
   "cell_type": "code",
   "execution_count": null,
   "metadata": {},
   "outputs": [],
   "source": [
    "# Creates the .gif from the saved plots for the 2D_Plots dir.\n",
    "filenames = []\n",
    "for i in range(1, 127):\n",
    "    filename = 'sin_' + str(i) + '_' + noise +' .png'\n",
    "    filenames.append(filename)\n",
    "\n",
    "frames=[]\n",
    "for filename in filenames:\n",
    "    frames.append(imageio.imread('Result_Plots/' + filename))\n",
    "exportname = 'sin_' + noise + '.gif'\n",
    "\n",
    "kargs = { 'duration': 0.5 }\n",
    "imageio.mimsave(exportname, frames, 'GIF', **kargs)"
   ]
  },
  {
   "cell_type": "code",
   "execution_count": null,
   "metadata": {},
   "outputs": [],
   "source": []
  }
 ],
 "metadata": {
  "kernelspec": {
   "name": "python385jvsc74a57bd06e623d20ae1ecd218cb0f40b5002ebfef5346b48af1dbeabdec7c1521f9e0f81",
   "display_name": "Python 3.8.5 64-bit ('cs761': conda)"
  },
  "language_info": {
   "codemirror_mode": {
    "name": "ipython",
    "version": 3
   },
   "file_extension": ".py",
   "mimetype": "text/x-python",
   "name": "python",
   "nbconvert_exporter": "python",
   "pygments_lexer": "ipython3",
   "version": "3.8.5"
  }
 },
 "nbformat": 4,
 "nbformat_minor": 2
}
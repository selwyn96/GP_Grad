{
 "cells": [
  {
   "cell_type": "markdown",
   "metadata": {},
   "source": [
    "## Simple example of TuRBO-1"
   ]
  },
  {
   "cell_type": "code",
   "execution_count": 2,
   "metadata": {},
   "outputs": [],
   "source": [
    "from turbo_1 import Turbo1\n",
    "import numpy as np\n",
    "import torch\n",
    "import math\n",
    "import matplotlib\n",
    "import matplotlib.pyplot as plt"
   ]
  },
  {
   "cell_type": "markdown",
   "metadata": {},
   "source": [
    "## Set up an optimization problem class"
   ]
  },
  {
   "cell_type": "code",
   "execution_count": 3,
   "metadata": {},
   "outputs": [],
   "source": [
    "class Levy:\n",
    "    def __init__(self, dim=10):\n",
    "        self.dim = dim\n",
    "        self.lb = -2 * np.ones(dim)\n",
    "        self.ub = 2 * np.ones(dim)\n",
    "        \n",
    "    def __call__(self, x):\n",
    "        assert len(x) == self.dim\n",
    "        assert x.ndim == 1\n",
    "        assert np.all(x <= self.ub) and np.all(x >= self.lb)\n",
    "        w = 1 + (x - 1.0) / 4.0\n",
    "        val = np.sin(np.pi * w[0]) ** 2 + \\\n",
    "            np.sum((w[1:self.dim - 1] - 1) ** 2 * (1 + 10 * np.sin(np.pi * w[1:self.dim - 1] + 1) ** 2)) + \\\n",
    "            (w[self.dim - 1] - 1) ** 2 * (1 + np.sin(2 * np.pi * w[self.dim - 1])**2)\n",
    "        return val\n",
    "\n",
    "f = Levy(10)"
   ]
  },
  {
   "cell_type": "markdown",
   "metadata": {},
   "source": [
    "## Create a Turbo optimizer instance"
   ]
  },
  {
   "cell_type": "code",
   "execution_count": 4,
   "metadata": {},
   "outputs": [
    {
     "name": "stdout",
     "output_type": "stream",
     "text": [
      "Using dtype = torch.float64 \n",
      "Using device = cpu\n"
     ]
    }
   ],
   "source": [
    "turbo1 = Turbo1(\n",
    "    f=f,  # Handle to objective function\n",
    "    lb=f.lb,  # Numpy array specifying lower bounds\n",
    "    ub=f.ub,  # Numpy array specifying upper bounds\n",
    "    n_init=5,  # Number of initial bounds from an Latin hypercube design\n",
    "    max_evals = 150,  # Maximum number of evaluations\n",
    "    batch_size=1,  # How large batch size TuRBO uses\n",
    "    verbose=True,  # Print information from each batch\n",
    "    use_ard=False,  # Set to true if you want to use ARD for the GP kernel\n",
    "    max_cholesky_size=2000,  # When we switch from Cholesky to Lanczos\n",
    "    n_training_steps=50,  # Number of steps of ADAM to learn the hypers\n",
    "    min_cuda=1024,  # Run on the CPU for small datasets\n",
    "    device=\"cpu\",  # \"cpu\" or \"cuda\"\n",
    "    dtype=\"float64\",  # float64 or float32\n",
    ")"
   ]
  },
  {
   "cell_type": "markdown",
   "metadata": {},
   "source": [
    "# Run the optimization process"
   ]
  },
  {
   "cell_type": "code",
   "execution_count": 5,
   "metadata": {},
   "outputs": [
    {
     "name": "stdout",
     "output_type": "stream",
     "text": [
      "Starting from fbest = 3.037\n",
      "14) New best: 1.797\n",
      "19) New best: 1.635\n",
      "30) New best: 1.624\n",
      "33) New best: 1.38\n",
      "36) New best: 1.357\n",
      "42) New best: 1.074\n",
      "50) New best: 0.9234\n",
      "65) New best: 0.9117\n",
      "68) New best: 0.8009\n",
      "73) New best: 0.7947\n",
      "87) New best: 0.7886\n",
      "88) New best: 0.7727\n",
      "90) New best: 0.7067\n",
      "91) New best: 0.6977\n",
      "100) New best: 0.6676\n",
      "108) New best: 0.6431\n",
      "113) New best: 0.6428\n",
      "115) New best: 0.6332\n",
      "124) New best: 0.6285\n",
      "135) New best: 0.5918\n",
      "143) New best: 0.5738\n"
     ]
    }
   ],
   "source": [
    "turbo1.optimize()"
   ]
  },
  {
   "cell_type": "markdown",
   "metadata": {},
   "source": [
    "## Extract all evaluations from Turbo and print the best"
   ]
  },
  {
   "cell_type": "code",
   "execution_count": 15,
   "metadata": {},
   "outputs": [
    {
     "name": "stdout",
     "output_type": "stream",
     "text": [
      "[[-0.68672286 -1.90589407 -0.57731395 -0.58040392 -1.28166908  1.10879123\n",
      "   0.38928768 -0.58237239  1.130742    1.06123606]\n",
      " [-0.16558073  0.37770551  1.68659163 -1.67403685  0.43385632 -1.7995288\n",
      "   1.54372719  0.16582041 -1.74176136  0.21047725]\n",
      " [ 0.7408176   1.5268353  -1.27762685  0.06096293 -0.20800681 -1.13556538\n",
      "  -1.88409799  1.28171467  1.31880612 -0.69695357]]\n",
      "[[-0.68672286 -1.90589407 -0.57731395 -0.58040392 -1.28166908  1.10879123\n",
      "   0.38928768 -0.58237239  1.130742    1.06123606]\n",
      " [-0.16558073  0.37770551  1.68659163 -1.67403685  0.43385632 -1.7995288\n",
      "   1.54372719  0.16582041 -1.74176136  0.21047725]\n",
      " [ 0.7408176   1.5268353  -1.27762685  0.06096293 -0.20800681 -1.13556538\n",
      "  -1.88409799  1.28171467  1.31880612 -0.69695357]\n",
      " [-1.29350282  0.44483731 -0.1034707   0.51485985  1.21721504  1.90635335\n",
      "  -0.48659766  0.9336267  -0.5402676  -1.75981762]\n",
      " [ 1.87556478 -0.96773012  1.06298128  1.37751522 -0.9418362   0.36772882\n",
      "   0.49682711 -1.54394727  0.12749131  1.34243847]\n",
      " [-0.60643721  1.83027711  0.71320754  1.58948764 -0.07506738  0.47309239\n",
      "   0.78285966  0.31053741 -1.99340467 -1.39037244]\n",
      " [ 0.05276115  0.98908794  1.33823787  0.71262218  0.23044008  1.55506566\n",
      "   1.09939416 -0.39524658 -1.97402563 -0.67999134]\n",
      " [ 0.28040181  1.29127274  0.78526622  0.34828133  1.15002495  0.39298187\n",
      "   1.07037756  1.74164547 -1.92937274 -1.92718765]\n",
      " [-0.85393841  1.94165159  1.46689826  1.74598206  0.93662421  0.49694299\n",
      "   0.91177683  1.72630492 -0.81648395 -1.55226173]\n",
      " [-1.92554507 -0.12161489 -1.57517775  0.51086099  0.09966167  0.57755306\n",
      "   0.0983156   1.64299426 -0.16207576 -1.81494904]\n",
      " [-0.68672286 -1.90589407 -0.57731395 -0.58040392 -1.28166908  1.10879123\n",
      "   0.38928768 -0.58237239  1.130742    1.06123606]\n",
      " [-0.16558073  0.37770551  1.68659163 -1.67403685  0.43385632 -1.7995288\n",
      "   1.54372719  0.16582041 -1.74176136  0.21047725]\n",
      " [ 0.7408176   1.5268353  -1.27762685  0.06096293 -0.20800681 -1.13556538\n",
      "  -1.88409799  1.28171467  1.31880612 -0.69695357]\n",
      " [-1.29350282  0.44483731 -0.1034707   0.51485985  1.21721504  1.90635335\n",
      "  -0.48659766  0.9336267  -0.5402676  -1.75981762]\n",
      " [ 1.87556478 -0.96773012  1.06298128  1.37751522 -0.9418362   0.36772882\n",
      "   0.49682711 -1.54394727  0.12749131  1.34243847]\n",
      " [-0.60643721  1.83027711  0.71320754  1.58948764 -0.07506738  0.47309239\n",
      "   0.78285966  0.31053741 -1.99340467 -1.39037244]\n",
      " [ 0.05276115  0.98908794  1.33823787  0.71262218  0.23044008  1.55506566\n",
      "   1.09939416 -0.39524658 -1.97402563 -0.67999134]\n",
      " [ 0.28040181  1.29127274  0.78526622  0.34828133  1.15002495  0.39298187\n",
      "   1.07037756  1.74164547 -1.92937274 -1.92718765]\n",
      " [-0.85393841  1.94165159  1.46689826  1.74598206  0.93662421  0.49694299\n",
      "   0.91177683  1.72630492 -0.81648395 -1.55226173]\n",
      " [-1.92554507 -0.12161489 -1.57517775  0.51086099  0.09966167  0.57755306\n",
      "   0.0983156   1.64299426 -0.16207576 -1.81494904]]\n",
      "Best value found:\n",
      "\tf(x) = 0.574\n",
      "Observed at:\n",
      "\tx = [-1.992  0.885  0.861  0.988  1.03   0.874  1.065  1.062  0.819  1.532]\n"
     ]
    }
   ],
   "source": [
    "X = turbo1.X  # Evaluated points\n",
    "fX = turbo1.fX  # Observed values\n",
    "ind_best = np.argmin(fX)\n",
    "print(turbo1.X[:3])\n",
    "print(np.vstack((turbo1.X[0:10],turbo1.X[0:10])))\n",
    "\n",
    "f_best, x_best = fX[ind_best], X[ind_best, :]\n",
    "print(\"Best value found:\\n\\tf(x) = %.3f\\nObserved at:\\n\\tx = %s\" % (f_best, np.around(x_best, 3)))"
   ]
  },
  {
   "cell_type": "markdown",
   "metadata": {},
   "source": [
    "## Plot the progress\n",
    "Each trust region is independent and finds different solutions"
   ]
  },
  {
   "cell_type": "code",
   "execution_count": 34,
   "metadata": {},
   "outputs": [
    {
     "data": {
      "image/png": "[encoded data removed]",
      "text/plain": [
       "<Figure size 504x360 with 1 Axes>"
      ]
     },
     "metadata": {
      "needs_background": "light"
     },
     "output_type": "display_data"
    }
   ],
   "source": [
    "fig = plt.figure(figsize=(7, 5))\n",
    "matplotlib.rcParams.update({'font.size': 16})\n",
    "plt.plot(fX, 'b.', ms=10)  # Plot all evaluated points as blue dots\n",
    "plt.plot(np.minimum.accumulate(fX), 'r', lw=3)  # Plot cumulative minimum as a red line\n",
    "plt.xlim([0, len(fX)])\n",
    "plt.ylim([0, 30])\n",
    "plt.title(\"10D Levy function\")\n",
    "\n",
    "plt.tight_layout()\n",
    "plt.show()"
   ]
  },
  {
   "cell_type": "code",
   "execution_count": null,
   "metadata": {},
   "outputs": [],
   "source": []
  }
 ],
 "metadata": {
  "kernelspec": {
   "display_name": "Python 3",
   "language": "python",
   "name": "python3"
  },
  "language_info": {
   "codemirror_mode": {
    "name": "ipython",
    "version": 3
   },
   "file_extension": ".py",
   "mimetype": "text/x-python",
   "name": "python",
   "nbconvert_exporter": "python",
   "pygments_lexer": "ipython3",
   "version": "3.7.4"
  }
 },
 "nbformat": 4,
 "nbformat_minor": 2
}
